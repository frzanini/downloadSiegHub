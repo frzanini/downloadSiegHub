{
 "cells": [
  {
   "cell_type": "code",
   "execution_count": 57,
   "metadata": {},
   "outputs": [],
   "source": [
    "from nfelib.nfe.bindings.v4_0.proc_nfe_v4_00 import NfeProc\n",
    "import os\n",
    "from pathlib import Path\n",
    "import base64"
   ]
  },
  {
   "cell_type": "code",
   "execution_count": 58,
   "metadata": {},
   "outputs": [
    {
     "name": "stdout",
     "output_type": "stream",
     "text": [
      "Caminho absoluto para a PastaTemp: C:\\Users\\frzanini\\Documents\\workspace\\comapa\\downloadSiegHub\\temp\n"
     ]
    }
   ],
   "source": [
    "# Obter o diretório atual como um objeto Path\n",
    "current_dir = Path().resolve()\n",
    "\n",
    "# Construir o caminho absoluto para a PastaTemp\n",
    "temp_dir = (current_dir.parent / 'Temp').resolve()\n",
    "\n",
    "print(f\"Caminho absoluto para a PastaTemp: {temp_dir}\")\n"
   ]
  },
  {
   "cell_type": "code",
   "execution_count": 59,
   "metadata": {},
   "outputs": [
    {
     "name": "stdout",
     "output_type": "stream",
     "text": [
      "C:\\Users\\frzanini\\Documents\\workspace\\comapa\\downloadSiegHub\\temp\n",
      "C:\\Users\\frzanini\\Documents\\workspace\\comapa\\downloadSiegHub\\temp\\resultado.txt\n"
     ]
    }
   ],
   "source": [
    "print(temp_dir)\n",
    "base64_data = f\"{temp_dir}\\\\resultado.txt\"\n",
    "print(base64_data)\n"
   ]
  },
  {
   "cell_type": "code",
   "execution_count": 70,
   "metadata": {},
   "outputs": [
    {
     "name": "stdout",
     "output_type": "stream",
     "text": [
      "<class 'str'>\n",
      "<class 'list'>\n"
     ]
    }
   ],
   "source": [
    "with open(base64_data,\"r\") as base64_file:\n",
    "    base64_content = base64_file.readlines(-1)\n",
    "    base64_content2 = base64_file.read(-1)\n",
    "\n",
    "print(type(base64_content2))\n",
    "print(type(base64_content))"
   ]
  },
  {
   "cell_type": "code",
   "execution_count": 74,
   "metadata": {},
   "outputs": [
    {
     "name": "stdout",
     "output_type": "stream",
     "text": [
      "count:  <built-in method count of list object at 0x0000023CA9D51A40>\n",
      "53342\n"
     ]
    }
   ],
   "source": [
    "print(\"count: \", base64_content.count)\n",
    "decoded_data = base64.b64decode(base64_content[0])\n",
    "print(len(decoded_data))"
   ]
  },
  {
   "cell_type": "code",
   "execution_count": 56,
   "metadata": {},
   "outputs": [
    {
     "name": "stdout",
     "output_type": "stream",
     "text": [
      "Arquivo XML 1 salvo em: C:\\Users\\frzanini\\Documents\\workspace\\comapa\\downloadSiegHub\\temp\\arquivo_1.xml\n"
     ]
    }
   ],
   "source": [
    "xmls = []\n",
    "start_idx = 0\n",
    "\n",
    "# Dividir os arquivos baseando na tag '<?xml'\n",
    "while True:\n",
    "    print(\"start_idx:\", start_idx)\n",
    "    start_idx = decoded_data.find(b'<nfeProc', start_idx)\n",
    "    if start_idx == -1:\n",
    "        break\n",
    "    \n",
    "    print(\"start_idx:\", start_idx)\n",
    "\n",
    "    end_idx = decoded_data.find(b'</nfeProc>', start_idx)  # Ajuste de acordo com a tag final do XML\n",
    "\n",
    "    print(\"end_idx:\", end_idx)\n",
    "    if end_idx == -1:\n",
    "        break\n",
    "    \n",
    "    xml_data = decoded_data[start_idx:end_idx + len('</nfeProc>')]  # Extrair o XML completo\n",
    "    xmls.append(xml_data)\n",
    "    start_idx = end_idx\n",
    "\n",
    "# Salvar cada XML em um arquivo separado\n",
    "for i, xml_data in enumerate(xmls):\n",
    "    xml_file_path = os.path.join(temp_dir, f'arquivo_{i+1}.xml')\n",
    "    with open(xml_file_path, 'wb') as xml_file:\n",
    "        xml_file.write(xml_data)\n",
    "    print(f\"Arquivo XML {i+1} salvo em: {xml_file_path}\")\n"
   ]
  }
 ],
 "metadata": {
  "kernelspec": {
   "display_name": ".venv",
   "language": "python",
   "name": "python3"
  },
  "language_info": {
   "codemirror_mode": {
    "name": "ipython",
    "version": 3
   },
   "file_extension": ".py",
   "mimetype": "text/x-python",
   "name": "python",
   "nbconvert_exporter": "python",
   "pygments_lexer": "ipython3",
   "version": "3.12.1"
  }
 },
 "nbformat": 4,
 "nbformat_minor": 2
}
